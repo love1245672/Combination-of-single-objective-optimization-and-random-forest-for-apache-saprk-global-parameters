{
 "cells": [
  {
   "cell_type": "code",
   "execution_count": 9,
   "metadata": {},
   "outputs": [],
   "source": [
    "import numpy as np # linear algebra\n",
    "import pandas as pd # data processing, CSV file I/O (e.g. pd.read_csv)\n",
    "\n",
    "import datetime, gc, random\n",
    "import json, numpy as np, pandas as pd, zipfile\n",
    "import matplotlib.pyplot as plt\n",
    "from itertools import cycle\n",
    "from sklearn.cluster import MeanShift, estimate_bandwidth\n",
    "# file\n",
    "import zipfile\n",
    "\n",
    "# Data preprocessing\n",
    "import datetime\n",
    "import re\n",
    "from sklearn.model_selection import train_test_split\n",
    "from sklearn.preprocessing import StandardScaler\n",
    "\n",
    "from sklearn.metrics import precision_recall_fscore_support as score\n",
    "from sklearn.model_selection import train_test_split\n",
    "from sklearn.ensemble import RandomForestRegressor\n",
    "from sklearn.ensemble import GradientBoostingRegressor\n",
    "from sklearn.linear_model import LinearRegression\n",
    "from sklearn.neighbors import KNeighborsRegressor\n",
    "from sklearn.tree import DecisionTreeRegressor\n",
    "from sklearn.metrics import mean_squared_error\n",
    "from sklearn.metrics import r2_score\n",
    "from xgboost import XGBRegressor\n",
    "from sklearn.svm import SVR\n",
    "from sklearn.metrics import roc_curve, roc_auc_score, auc\n",
    "import matplotlib.pyplot as plt\n",
    "import xgboost as xgb\n",
    "from sklearn.model_selection import cross_val_score\n",
    "\n",
    "from sklearn.svm import SVR\n",
    "import warnings\n",
    "warnings.filterwarnings('ignore', message='A column-vector y was passed when a 1d array was expected.')"
   ]
  },
  {
   "cell_type": "code",
   "execution_count": 10,
   "metadata": {},
   "outputs": [],
   "source": [
    "#數據前處理\n",
    "def processing_df(df):\n",
    "    df[\"Type\"] = df[\"Type\"].map({\"ScalaSparkKmeans\":1, \"ScalaSparkNWeight\":2,\"ScalaSparkPagerank\":3,\"ScalaSparkTerasort\":4,\"ScalaSparkWordcount\":5})\n",
    "    df[\"spark.serializer\"] = df[\"spark.serializer\"].map({\"org.apache.spark.serializer.JavaSerializer\": 1, \"org.apache.spark.serializer.KryoSerializer\": 2})\n",
    "    df[\"spark.io.compression.codec\"] = df[\"spark.io.compression.codec\"].map({\"snappy\":1, \"lz4\":2,\"lzf\":3})\n",
    "    #欄位為 str的轉 int , Ex: \"26k\" -> 26\n",
    "    df['spark.broadcast.blockSize'] = df['spark.broadcast.blockSize'].str.replace('m','').astype(int)\n",
    "    df['spark.driver.memory'] = df['spark.driver.memory'].str.replace('g','').astype(int)\n",
    "    df['spark.executor.memory'] = df['spark.executor.memory'].str.replace('g','').astype(int)\n",
    "    df['spark.io.compression.lz4.blockSize'] = df['spark.io.compression.lz4.blockSize'].str.replace('k','').astype(int)\n",
    "    df['spark.io.compression.snappy.blockSize'] = df['spark.io.compression.snappy.blockSize'].str.replace('k','').astype(int)\n",
    "    df['spark.kryoserializer.buffer'] = df['spark.kryoserializer.buffer'].str.replace('k','').astype(int)\n",
    "    df['spark.kryoserializer.buffer.max'] = df['spark.kryoserializer.buffer.max'].str.replace('m','').astype(int)\n",
    "    df['spark.reducer.maxSizeInFlight'] = df['spark.reducer.maxSizeInFlight'].str.replace('m','').astype(int)\n",
    "    df['spark.shuffle.file.buffer'] = df['spark.shuffle.file.buffer'].str.replace('k','').astype(int)\n",
    "    df['spark.storage.memoryMapThreshold'] = df['spark.storage.memoryMapThreshold'].str.replace('m','').astype(int)\n",
    "    return df\n",
    "\n",
    "def error_index(true_data,pred_data,sample_type):\n",
    "    df_true = pd.DataFrame(true_data)\n",
    "    df_true = df_true.reset_index()\n",
    "    df_pred = pd.DataFrame(pred_data,columns = ['Duration(s)_pred'])\n",
    "    df_all = df_true.merge(df_pred, how='inner', left_index=True, right_index=True)\n",
    "    df_all[\"error_ratio\"] = (abs((df_all['Duration(s)_pred'] - df_all['Duration(s)'])) / df_all['Duration(s)']*100)\n",
    "    df_all[\"mse\"] = (df_all['Duration(s)'] - df_all['Duration(s)_pred']) ** 2\n",
    "    #df_all.to_csv(\"rf_report_\"+sample_type+\".csv\")\n",
    "    \n",
    "    return df_all[\"error_ratio\"].mean()\n",
    "\n",
    "type = 'ScalaSparkKmeans'\n",
    "hibench_report_simple = pd.read_csv('/home/love1245672/桌面/hibench_report/dataset_simple/'+ type +'.csv')\n",
    "hibench_report_grid = pd.read_csv('/home/love1245672/桌面/hibench_report/dataset_grid/'+ type +'.csv')\n",
    "\n",
    "hibench_report_simple = processing_df(hibench_report_simple)\n",
    "hibench_report_grid = processing_df(hibench_report_grid)"
   ]
  },
  {
   "cell_type": "code",
   "execution_count": 11,
   "metadata": {},
   "outputs": [
    {
     "name": "stdout",
     "output_type": "stream",
     "text": [
      "450\n"
     ]
    },
    {
     "name": "stderr",
     "output_type": "stream",
     "text": [
      "/tmp/ipykernel_5115/3940924290.py:70: FutureWarning: The frame.append method is deprecated and will be removed from pandas in a future version. Use pandas.concat instead.\n",
      "  result = result.append({\"size\": size, \"simple_\"+type[10:]+\"_error\": mean_error/20,\"grid_\"+type[10:]+\"_error\": mean_error_grid/20,\"mix_\"+type[10:]+\"_error\": mean_error_mix/20},ignore_index=True)\n"
     ]
    },
    {
     "name": "stdout",
     "output_type": "stream",
     "text": [
      "450\n"
     ]
    },
    {
     "name": "stderr",
     "output_type": "stream",
     "text": [
      "/tmp/ipykernel_5115/3940924290.py:70: FutureWarning: The frame.append method is deprecated and will be removed from pandas in a future version. Use pandas.concat instead.\n",
      "  result = result.append({\"size\": size, \"simple_\"+type[10:]+\"_error\": mean_error/20,\"grid_\"+type[10:]+\"_error\": mean_error_grid/20,\"mix_\"+type[10:]+\"_error\": mean_error_mix/20},ignore_index=True)\n"
     ]
    },
    {
     "name": "stdout",
     "output_type": "stream",
     "text": [
      "450\n"
     ]
    },
    {
     "name": "stderr",
     "output_type": "stream",
     "text": [
      "/tmp/ipykernel_5115/3940924290.py:70: FutureWarning: The frame.append method is deprecated and will be removed from pandas in a future version. Use pandas.concat instead.\n",
      "  result = result.append({\"size\": size, \"simple_\"+type[10:]+\"_error\": mean_error/20,\"grid_\"+type[10:]+\"_error\": mean_error_grid/20,\"mix_\"+type[10:]+\"_error\": mean_error_mix/20},ignore_index=True)\n"
     ]
    },
    {
     "name": "stdout",
     "output_type": "stream",
     "text": [
      "450\n"
     ]
    },
    {
     "name": "stderr",
     "output_type": "stream",
     "text": [
      "/tmp/ipykernel_5115/3940924290.py:70: FutureWarning: The frame.append method is deprecated and will be removed from pandas in a future version. Use pandas.concat instead.\n",
      "  result = result.append({\"size\": size, \"simple_\"+type[10:]+\"_error\": mean_error/20,\"grid_\"+type[10:]+\"_error\": mean_error_grid/20,\"mix_\"+type[10:]+\"_error\": mean_error_mix/20},ignore_index=True)\n"
     ]
    },
    {
     "name": "stdout",
     "output_type": "stream",
     "text": [
      "450\n"
     ]
    },
    {
     "name": "stderr",
     "output_type": "stream",
     "text": [
      "/tmp/ipykernel_5115/3940924290.py:70: FutureWarning: The frame.append method is deprecated and will be removed from pandas in a future version. Use pandas.concat instead.\n",
      "  result = result.append({\"size\": size, \"simple_\"+type[10:]+\"_error\": mean_error/20,\"grid_\"+type[10:]+\"_error\": mean_error_grid/20,\"mix_\"+type[10:]+\"_error\": mean_error_mix/20},ignore_index=True)\n"
     ]
    },
    {
     "name": "stdout",
     "output_type": "stream",
     "text": [
      "450\n"
     ]
    },
    {
     "name": "stderr",
     "output_type": "stream",
     "text": [
      "/tmp/ipykernel_5115/3940924290.py:70: FutureWarning: The frame.append method is deprecated and will be removed from pandas in a future version. Use pandas.concat instead.\n",
      "  result = result.append({\"size\": size, \"simple_\"+type[10:]+\"_error\": mean_error/20,\"grid_\"+type[10:]+\"_error\": mean_error_grid/20,\"mix_\"+type[10:]+\"_error\": mean_error_mix/20},ignore_index=True)\n"
     ]
    },
    {
     "name": "stdout",
     "output_type": "stream",
     "text": [
      "450\n"
     ]
    },
    {
     "name": "stderr",
     "output_type": "stream",
     "text": [
      "/tmp/ipykernel_5115/3940924290.py:70: FutureWarning: The frame.append method is deprecated and will be removed from pandas in a future version. Use pandas.concat instead.\n",
      "  result = result.append({\"size\": size, \"simple_\"+type[10:]+\"_error\": mean_error/20,\"grid_\"+type[10:]+\"_error\": mean_error_grid/20,\"mix_\"+type[10:]+\"_error\": mean_error_mix/20},ignore_index=True)\n"
     ]
    },
    {
     "name": "stdout",
     "output_type": "stream",
     "text": [
      "450\n"
     ]
    },
    {
     "name": "stderr",
     "output_type": "stream",
     "text": [
      "/tmp/ipykernel_5115/3940924290.py:70: FutureWarning: The frame.append method is deprecated and will be removed from pandas in a future version. Use pandas.concat instead.\n",
      "  result = result.append({\"size\": size, \"simple_\"+type[10:]+\"_error\": mean_error/20,\"grid_\"+type[10:]+\"_error\": mean_error_grid/20,\"mix_\"+type[10:]+\"_error\": mean_error_mix/20},ignore_index=True)\n"
     ]
    },
    {
     "name": "stdout",
     "output_type": "stream",
     "text": [
      "450\n"
     ]
    },
    {
     "name": "stderr",
     "output_type": "stream",
     "text": [
      "/tmp/ipykernel_5115/3940924290.py:70: FutureWarning: The frame.append method is deprecated and will be removed from pandas in a future version. Use pandas.concat instead.\n",
      "  result = result.append({\"size\": size, \"simple_\"+type[10:]+\"_error\": mean_error/20,\"grid_\"+type[10:]+\"_error\": mean_error_grid/20,\"mix_\"+type[10:]+\"_error\": mean_error_mix/20},ignore_index=True)\n"
     ]
    },
    {
     "name": "stdout",
     "output_type": "stream",
     "text": [
      "450\n"
     ]
    },
    {
     "name": "stderr",
     "output_type": "stream",
     "text": [
      "/tmp/ipykernel_5115/3940924290.py:70: FutureWarning: The frame.append method is deprecated and will be removed from pandas in a future version. Use pandas.concat instead.\n",
      "  result = result.append({\"size\": size, \"simple_\"+type[10:]+\"_error\": mean_error/20,\"grid_\"+type[10:]+\"_error\": mean_error_grid/20,\"mix_\"+type[10:]+\"_error\": mean_error_mix/20},ignore_index=True)\n"
     ]
    },
    {
     "name": "stdout",
     "output_type": "stream",
     "text": [
      "450\n"
     ]
    },
    {
     "name": "stderr",
     "output_type": "stream",
     "text": [
      "/tmp/ipykernel_5115/3940924290.py:70: FutureWarning: The frame.append method is deprecated and will be removed from pandas in a future version. Use pandas.concat instead.\n",
      "  result = result.append({\"size\": size, \"simple_\"+type[10:]+\"_error\": mean_error/20,\"grid_\"+type[10:]+\"_error\": mean_error_grid/20,\"mix_\"+type[10:]+\"_error\": mean_error_mix/20},ignore_index=True)\n"
     ]
    },
    {
     "name": "stdout",
     "output_type": "stream",
     "text": [
      "450\n"
     ]
    },
    {
     "name": "stderr",
     "output_type": "stream",
     "text": [
      "/tmp/ipykernel_5115/3940924290.py:70: FutureWarning: The frame.append method is deprecated and will be removed from pandas in a future version. Use pandas.concat instead.\n",
      "  result = result.append({\"size\": size, \"simple_\"+type[10:]+\"_error\": mean_error/20,\"grid_\"+type[10:]+\"_error\": mean_error_grid/20,\"mix_\"+type[10:]+\"_error\": mean_error_mix/20},ignore_index=True)\n"
     ]
    },
    {
     "name": "stdout",
     "output_type": "stream",
     "text": [
      "450\n"
     ]
    },
    {
     "name": "stderr",
     "output_type": "stream",
     "text": [
      "/tmp/ipykernel_5115/3940924290.py:70: FutureWarning: The frame.append method is deprecated and will be removed from pandas in a future version. Use pandas.concat instead.\n",
      "  result = result.append({\"size\": size, \"simple_\"+type[10:]+\"_error\": mean_error/20,\"grid_\"+type[10:]+\"_error\": mean_error_grid/20,\"mix_\"+type[10:]+\"_error\": mean_error_mix/20},ignore_index=True)\n"
     ]
    },
    {
     "name": "stdout",
     "output_type": "stream",
     "text": [
      "450\n"
     ]
    },
    {
     "name": "stderr",
     "output_type": "stream",
     "text": [
      "/tmp/ipykernel_5115/3940924290.py:70: FutureWarning: The frame.append method is deprecated and will be removed from pandas in a future version. Use pandas.concat instead.\n",
      "  result = result.append({\"size\": size, \"simple_\"+type[10:]+\"_error\": mean_error/20,\"grid_\"+type[10:]+\"_error\": mean_error_grid/20,\"mix_\"+type[10:]+\"_error\": mean_error_mix/20},ignore_index=True)\n"
     ]
    },
    {
     "name": "stdout",
     "output_type": "stream",
     "text": [
      "450\n"
     ]
    },
    {
     "name": "stderr",
     "output_type": "stream",
     "text": [
      "/tmp/ipykernel_5115/3940924290.py:70: FutureWarning: The frame.append method is deprecated and will be removed from pandas in a future version. Use pandas.concat instead.\n",
      "  result = result.append({\"size\": size, \"simple_\"+type[10:]+\"_error\": mean_error/20,\"grid_\"+type[10:]+\"_error\": mean_error_grid/20,\"mix_\"+type[10:]+\"_error\": mean_error_mix/20},ignore_index=True)\n"
     ]
    },
    {
     "name": "stdout",
     "output_type": "stream",
     "text": [
      "450\n"
     ]
    },
    {
     "name": "stderr",
     "output_type": "stream",
     "text": [
      "/tmp/ipykernel_5115/3940924290.py:70: FutureWarning: The frame.append method is deprecated and will be removed from pandas in a future version. Use pandas.concat instead.\n",
      "  result = result.append({\"size\": size, \"simple_\"+type[10:]+\"_error\": mean_error/20,\"grid_\"+type[10:]+\"_error\": mean_error_grid/20,\"mix_\"+type[10:]+\"_error\": mean_error_mix/20},ignore_index=True)\n"
     ]
    },
    {
     "name": "stdout",
     "output_type": "stream",
     "text": [
      "450\n"
     ]
    },
    {
     "name": "stderr",
     "output_type": "stream",
     "text": [
      "/tmp/ipykernel_5115/3940924290.py:70: FutureWarning: The frame.append method is deprecated and will be removed from pandas in a future version. Use pandas.concat instead.\n",
      "  result = result.append({\"size\": size, \"simple_\"+type[10:]+\"_error\": mean_error/20,\"grid_\"+type[10:]+\"_error\": mean_error_grid/20,\"mix_\"+type[10:]+\"_error\": mean_error_mix/20},ignore_index=True)\n"
     ]
    },
    {
     "name": "stdout",
     "output_type": "stream",
     "text": [
      "450\n"
     ]
    },
    {
     "name": "stderr",
     "output_type": "stream",
     "text": [
      "/tmp/ipykernel_5115/3940924290.py:70: FutureWarning: The frame.append method is deprecated and will be removed from pandas in a future version. Use pandas.concat instead.\n",
      "  result = result.append({\"size\": size, \"simple_\"+type[10:]+\"_error\": mean_error/20,\"grid_\"+type[10:]+\"_error\": mean_error_grid/20,\"mix_\"+type[10:]+\"_error\": mean_error_mix/20},ignore_index=True)\n"
     ]
    },
    {
     "name": "stdout",
     "output_type": "stream",
     "text": [
      "450\n"
     ]
    },
    {
     "name": "stderr",
     "output_type": "stream",
     "text": [
      "/tmp/ipykernel_5115/3940924290.py:70: FutureWarning: The frame.append method is deprecated and will be removed from pandas in a future version. Use pandas.concat instead.\n",
      "  result = result.append({\"size\": size, \"simple_\"+type[10:]+\"_error\": mean_error/20,\"grid_\"+type[10:]+\"_error\": mean_error_grid/20,\"mix_\"+type[10:]+\"_error\": mean_error_mix/20},ignore_index=True)\n"
     ]
    },
    {
     "name": "stdout",
     "output_type": "stream",
     "text": [
      "450\n"
     ]
    },
    {
     "name": "stderr",
     "output_type": "stream",
     "text": [
      "/tmp/ipykernel_5115/3940924290.py:70: FutureWarning: The frame.append method is deprecated and will be removed from pandas in a future version. Use pandas.concat instead.\n",
      "  result = result.append({\"size\": size, \"simple_\"+type[10:]+\"_error\": mean_error/20,\"grid_\"+type[10:]+\"_error\": mean_error_grid/20,\"mix_\"+type[10:]+\"_error\": mean_error_mix/20},ignore_index=True)\n"
     ]
    },
    {
     "name": "stdout",
     "output_type": "stream",
     "text": [
      "450\n"
     ]
    },
    {
     "name": "stderr",
     "output_type": "stream",
     "text": [
      "/tmp/ipykernel_5115/3940924290.py:70: FutureWarning: The frame.append method is deprecated and will be removed from pandas in a future version. Use pandas.concat instead.\n",
      "  result = result.append({\"size\": size, \"simple_\"+type[10:]+\"_error\": mean_error/20,\"grid_\"+type[10:]+\"_error\": mean_error_grid/20,\"mix_\"+type[10:]+\"_error\": mean_error_mix/20},ignore_index=True)\n"
     ]
    },
    {
     "name": "stdout",
     "output_type": "stream",
     "text": [
      "450\n"
     ]
    },
    {
     "name": "stderr",
     "output_type": "stream",
     "text": [
      "/tmp/ipykernel_5115/3940924290.py:70: FutureWarning: The frame.append method is deprecated and will be removed from pandas in a future version. Use pandas.concat instead.\n",
      "  result = result.append({\"size\": size, \"simple_\"+type[10:]+\"_error\": mean_error/20,\"grid_\"+type[10:]+\"_error\": mean_error_grid/20,\"mix_\"+type[10:]+\"_error\": mean_error_mix/20},ignore_index=True)\n"
     ]
    },
    {
     "name": "stdout",
     "output_type": "stream",
     "text": [
      "450\n"
     ]
    },
    {
     "name": "stderr",
     "output_type": "stream",
     "text": [
      "/tmp/ipykernel_5115/3940924290.py:70: FutureWarning: The frame.append method is deprecated and will be removed from pandas in a future version. Use pandas.concat instead.\n",
      "  result = result.append({\"size\": size, \"simple_\"+type[10:]+\"_error\": mean_error/20,\"grid_\"+type[10:]+\"_error\": mean_error_grid/20,\"mix_\"+type[10:]+\"_error\": mean_error_mix/20},ignore_index=True)\n"
     ]
    },
    {
     "name": "stdout",
     "output_type": "stream",
     "text": [
      "450\n"
     ]
    },
    {
     "name": "stderr",
     "output_type": "stream",
     "text": [
      "/tmp/ipykernel_5115/3940924290.py:70: FutureWarning: The frame.append method is deprecated and will be removed from pandas in a future version. Use pandas.concat instead.\n",
      "  result = result.append({\"size\": size, \"simple_\"+type[10:]+\"_error\": mean_error/20,\"grid_\"+type[10:]+\"_error\": mean_error_grid/20,\"mix_\"+type[10:]+\"_error\": mean_error_mix/20},ignore_index=True)\n"
     ]
    },
    {
     "name": "stdout",
     "output_type": "stream",
     "text": [
      "450\n"
     ]
    },
    {
     "name": "stderr",
     "output_type": "stream",
     "text": [
      "/tmp/ipykernel_5115/3940924290.py:70: FutureWarning: The frame.append method is deprecated and will be removed from pandas in a future version. Use pandas.concat instead.\n",
      "  result = result.append({\"size\": size, \"simple_\"+type[10:]+\"_error\": mean_error/20,\"grid_\"+type[10:]+\"_error\": mean_error_grid/20,\"mix_\"+type[10:]+\"_error\": mean_error_mix/20},ignore_index=True)\n"
     ]
    },
    {
     "name": "stdout",
     "output_type": "stream",
     "text": [
      "450\n"
     ]
    },
    {
     "name": "stderr",
     "output_type": "stream",
     "text": [
      "/tmp/ipykernel_5115/3940924290.py:70: FutureWarning: The frame.append method is deprecated and will be removed from pandas in a future version. Use pandas.concat instead.\n",
      "  result = result.append({\"size\": size, \"simple_\"+type[10:]+\"_error\": mean_error/20,\"grid_\"+type[10:]+\"_error\": mean_error_grid/20,\"mix_\"+type[10:]+\"_error\": mean_error_mix/20},ignore_index=True)\n"
     ]
    },
    {
     "name": "stdout",
     "output_type": "stream",
     "text": [
      "450\n"
     ]
    },
    {
     "name": "stderr",
     "output_type": "stream",
     "text": [
      "/tmp/ipykernel_5115/3940924290.py:70: FutureWarning: The frame.append method is deprecated and will be removed from pandas in a future version. Use pandas.concat instead.\n",
      "  result = result.append({\"size\": size, \"simple_\"+type[10:]+\"_error\": mean_error/20,\"grid_\"+type[10:]+\"_error\": mean_error_grid/20,\"mix_\"+type[10:]+\"_error\": mean_error_mix/20},ignore_index=True)\n"
     ]
    },
    {
     "name": "stdout",
     "output_type": "stream",
     "text": [
      "450\n"
     ]
    },
    {
     "name": "stderr",
     "output_type": "stream",
     "text": [
      "/tmp/ipykernel_5115/3940924290.py:70: FutureWarning: The frame.append method is deprecated and will be removed from pandas in a future version. Use pandas.concat instead.\n",
      "  result = result.append({\"size\": size, \"simple_\"+type[10:]+\"_error\": mean_error/20,\"grid_\"+type[10:]+\"_error\": mean_error_grid/20,\"mix_\"+type[10:]+\"_error\": mean_error_mix/20},ignore_index=True)\n"
     ]
    },
    {
     "name": "stdout",
     "output_type": "stream",
     "text": [
      "450\n"
     ]
    },
    {
     "name": "stderr",
     "output_type": "stream",
     "text": [
      "/tmp/ipykernel_5115/3940924290.py:70: FutureWarning: The frame.append method is deprecated and will be removed from pandas in a future version. Use pandas.concat instead.\n",
      "  result = result.append({\"size\": size, \"simple_\"+type[10:]+\"_error\": mean_error/20,\"grid_\"+type[10:]+\"_error\": mean_error_grid/20,\"mix_\"+type[10:]+\"_error\": mean_error_mix/20},ignore_index=True)\n"
     ]
    },
    {
     "name": "stdout",
     "output_type": "stream",
     "text": [
      "450\n"
     ]
    },
    {
     "name": "stderr",
     "output_type": "stream",
     "text": [
      "/tmp/ipykernel_5115/3940924290.py:70: FutureWarning: The frame.append method is deprecated and will be removed from pandas in a future version. Use pandas.concat instead.\n",
      "  result = result.append({\"size\": size, \"simple_\"+type[10:]+\"_error\": mean_error/20,\"grid_\"+type[10:]+\"_error\": mean_error_grid/20,\"mix_\"+type[10:]+\"_error\": mean_error_mix/20},ignore_index=True)\n"
     ]
    },
    {
     "name": "stdout",
     "output_type": "stream",
     "text": [
      "450\n"
     ]
    },
    {
     "name": "stderr",
     "output_type": "stream",
     "text": [
      "/tmp/ipykernel_5115/3940924290.py:70: FutureWarning: The frame.append method is deprecated and will be removed from pandas in a future version. Use pandas.concat instead.\n",
      "  result = result.append({\"size\": size, \"simple_\"+type[10:]+\"_error\": mean_error/20,\"grid_\"+type[10:]+\"_error\": mean_error_grid/20,\"mix_\"+type[10:]+\"_error\": mean_error_mix/20},ignore_index=True)\n"
     ]
    },
    {
     "name": "stdout",
     "output_type": "stream",
     "text": [
      "450\n"
     ]
    },
    {
     "name": "stderr",
     "output_type": "stream",
     "text": [
      "/tmp/ipykernel_5115/3940924290.py:70: FutureWarning: The frame.append method is deprecated and will be removed from pandas in a future version. Use pandas.concat instead.\n",
      "  result = result.append({\"size\": size, \"simple_\"+type[10:]+\"_error\": mean_error/20,\"grid_\"+type[10:]+\"_error\": mean_error_grid/20,\"mix_\"+type[10:]+\"_error\": mean_error_mix/20},ignore_index=True)\n"
     ]
    },
    {
     "name": "stdout",
     "output_type": "stream",
     "text": [
      "450\n"
     ]
    },
    {
     "name": "stderr",
     "output_type": "stream",
     "text": [
      "/tmp/ipykernel_5115/3940924290.py:70: FutureWarning: The frame.append method is deprecated and will be removed from pandas in a future version. Use pandas.concat instead.\n",
      "  result = result.append({\"size\": size, \"simple_\"+type[10:]+\"_error\": mean_error/20,\"grid_\"+type[10:]+\"_error\": mean_error_grid/20,\"mix_\"+type[10:]+\"_error\": mean_error_mix/20},ignore_index=True)\n"
     ]
    },
    {
     "name": "stdout",
     "output_type": "stream",
     "text": [
      "450\n"
     ]
    },
    {
     "name": "stderr",
     "output_type": "stream",
     "text": [
      "/tmp/ipykernel_5115/3940924290.py:70: FutureWarning: The frame.append method is deprecated and will be removed from pandas in a future version. Use pandas.concat instead.\n",
      "  result = result.append({\"size\": size, \"simple_\"+type[10:]+\"_error\": mean_error/20,\"grid_\"+type[10:]+\"_error\": mean_error_grid/20,\"mix_\"+type[10:]+\"_error\": mean_error_mix/20},ignore_index=True)\n"
     ]
    },
    {
     "name": "stdout",
     "output_type": "stream",
     "text": [
      "450\n"
     ]
    },
    {
     "name": "stderr",
     "output_type": "stream",
     "text": [
      "/tmp/ipykernel_5115/3940924290.py:70: FutureWarning: The frame.append method is deprecated and will be removed from pandas in a future version. Use pandas.concat instead.\n",
      "  result = result.append({\"size\": size, \"simple_\"+type[10:]+\"_error\": mean_error/20,\"grid_\"+type[10:]+\"_error\": mean_error_grid/20,\"mix_\"+type[10:]+\"_error\": mean_error_mix/20},ignore_index=True)\n"
     ]
    },
    {
     "name": "stdout",
     "output_type": "stream",
     "text": [
      "450\n"
     ]
    },
    {
     "name": "stderr",
     "output_type": "stream",
     "text": [
      "/tmp/ipykernel_5115/3940924290.py:70: FutureWarning: The frame.append method is deprecated and will be removed from pandas in a future version. Use pandas.concat instead.\n",
      "  result = result.append({\"size\": size, \"simple_\"+type[10:]+\"_error\": mean_error/20,\"grid_\"+type[10:]+\"_error\": mean_error_grid/20,\"mix_\"+type[10:]+\"_error\": mean_error_mix/20},ignore_index=True)\n"
     ]
    },
    {
     "name": "stdout",
     "output_type": "stream",
     "text": [
      "450\n"
     ]
    },
    {
     "name": "stderr",
     "output_type": "stream",
     "text": [
      "/tmp/ipykernel_5115/3940924290.py:70: FutureWarning: The frame.append method is deprecated and will be removed from pandas in a future version. Use pandas.concat instead.\n",
      "  result = result.append({\"size\": size, \"simple_\"+type[10:]+\"_error\": mean_error/20,\"grid_\"+type[10:]+\"_error\": mean_error_grid/20,\"mix_\"+type[10:]+\"_error\": mean_error_mix/20},ignore_index=True)\n"
     ]
    },
    {
     "name": "stdout",
     "output_type": "stream",
     "text": [
      "450\n"
     ]
    },
    {
     "name": "stderr",
     "output_type": "stream",
     "text": [
      "/tmp/ipykernel_5115/3940924290.py:70: FutureWarning: The frame.append method is deprecated and will be removed from pandas in a future version. Use pandas.concat instead.\n",
      "  result = result.append({\"size\": size, \"simple_\"+type[10:]+\"_error\": mean_error/20,\"grid_\"+type[10:]+\"_error\": mean_error_grid/20,\"mix_\"+type[10:]+\"_error\": mean_error_mix/20},ignore_index=True)\n"
     ]
    },
    {
     "name": "stdout",
     "output_type": "stream",
     "text": [
      "450\n"
     ]
    },
    {
     "name": "stderr",
     "output_type": "stream",
     "text": [
      "/tmp/ipykernel_5115/3940924290.py:70: FutureWarning: The frame.append method is deprecated and will be removed from pandas in a future version. Use pandas.concat instead.\n",
      "  result = result.append({\"size\": size, \"simple_\"+type[10:]+\"_error\": mean_error/20,\"grid_\"+type[10:]+\"_error\": mean_error_grid/20,\"mix_\"+type[10:]+\"_error\": mean_error_mix/20},ignore_index=True)\n"
     ]
    },
    {
     "name": "stdout",
     "output_type": "stream",
     "text": [
      "450\n"
     ]
    },
    {
     "name": "stderr",
     "output_type": "stream",
     "text": [
      "/tmp/ipykernel_5115/3940924290.py:70: FutureWarning: The frame.append method is deprecated and will be removed from pandas in a future version. Use pandas.concat instead.\n",
      "  result = result.append({\"size\": size, \"simple_\"+type[10:]+\"_error\": mean_error/20,\"grid_\"+type[10:]+\"_error\": mean_error_grid/20,\"mix_\"+type[10:]+\"_error\": mean_error_mix/20},ignore_index=True)\n"
     ]
    },
    {
     "name": "stdout",
     "output_type": "stream",
     "text": [
      "450\n"
     ]
    },
    {
     "name": "stderr",
     "output_type": "stream",
     "text": [
      "/tmp/ipykernel_5115/3940924290.py:70: FutureWarning: The frame.append method is deprecated and will be removed from pandas in a future version. Use pandas.concat instead.\n",
      "  result = result.append({\"size\": size, \"simple_\"+type[10:]+\"_error\": mean_error/20,\"grid_\"+type[10:]+\"_error\": mean_error_grid/20,\"mix_\"+type[10:]+\"_error\": mean_error_mix/20},ignore_index=True)\n"
     ]
    },
    {
     "name": "stdout",
     "output_type": "stream",
     "text": [
      "450\n"
     ]
    },
    {
     "name": "stderr",
     "output_type": "stream",
     "text": [
      "/tmp/ipykernel_5115/3940924290.py:70: FutureWarning: The frame.append method is deprecated and will be removed from pandas in a future version. Use pandas.concat instead.\n",
      "  result = result.append({\"size\": size, \"simple_\"+type[10:]+\"_error\": mean_error/20,\"grid_\"+type[10:]+\"_error\": mean_error_grid/20,\"mix_\"+type[10:]+\"_error\": mean_error_mix/20},ignore_index=True)\n"
     ]
    },
    {
     "name": "stdout",
     "output_type": "stream",
     "text": [
      "450\n"
     ]
    },
    {
     "name": "stderr",
     "output_type": "stream",
     "text": [
      "/tmp/ipykernel_5115/3940924290.py:70: FutureWarning: The frame.append method is deprecated and will be removed from pandas in a future version. Use pandas.concat instead.\n",
      "  result = result.append({\"size\": size, \"simple_\"+type[10:]+\"_error\": mean_error/20,\"grid_\"+type[10:]+\"_error\": mean_error_grid/20,\"mix_\"+type[10:]+\"_error\": mean_error_mix/20},ignore_index=True)\n"
     ]
    },
    {
     "name": "stdout",
     "output_type": "stream",
     "text": [
      "450\n"
     ]
    },
    {
     "name": "stderr",
     "output_type": "stream",
     "text": [
      "/tmp/ipykernel_5115/3940924290.py:70: FutureWarning: The frame.append method is deprecated and will be removed from pandas in a future version. Use pandas.concat instead.\n",
      "  result = result.append({\"size\": size, \"simple_\"+type[10:]+\"_error\": mean_error/20,\"grid_\"+type[10:]+\"_error\": mean_error_grid/20,\"mix_\"+type[10:]+\"_error\": mean_error_mix/20},ignore_index=True)\n"
     ]
    },
    {
     "name": "stdout",
     "output_type": "stream",
     "text": [
      "450\n"
     ]
    },
    {
     "name": "stderr",
     "output_type": "stream",
     "text": [
      "/tmp/ipykernel_5115/3940924290.py:70: FutureWarning: The frame.append method is deprecated and will be removed from pandas in a future version. Use pandas.concat instead.\n",
      "  result = result.append({\"size\": size, \"simple_\"+type[10:]+\"_error\": mean_error/20,\"grid_\"+type[10:]+\"_error\": mean_error_grid/20,\"mix_\"+type[10:]+\"_error\": mean_error_mix/20},ignore_index=True)\n"
     ]
    }
   ],
   "source": [
    "banchmark = [\"ScalaSparkKmeans\",\"ScalaSparkNWeight\",\"ScalaSparkPagerank\",\"ScalaSparkTerasort\",\"ScalaSparkWordcount\"]\n",
    "for ratio in range(1,2):\n",
    "    result = pd.DataFrame()\n",
    "    for type in banchmark:\n",
    "        hibench_report_simple = pd.read_csv('/home/love1245672/桌面/hibench_report/dataset_simple/'+ type +'.csv')\n",
    "        hibench_report_grid = pd.read_csv('/home/love1245672/桌面/hibench_report/dataset_grid/'+ type +'.csv')\n",
    "\n",
    "        hibench_report_simple = processing_df(hibench_report_simple)\n",
    "        hibench_report_grid = processing_df(hibench_report_grid)\n",
    "\n",
    "        for size in range(50,750,50):\n",
    "            print(size)\n",
    "            mean_mse = 0\n",
    "            mean_error = 0\n",
    "            mean_mse_grid = 0\n",
    "            mean_error_grid = 0\n",
    "            mean_mse_mix = 0\n",
    "            mean_error_mix = 0\n",
    "            for i in range(20):\n",
    "                \n",
    "                # 從 DataFrame 中隨機抽取 700 列數據作為訓練集\n",
    "                train_data_simple = hibench_report_simple.sample(n=size, random_state=i) \n",
    "                train_data_grid = hibench_report_grid.sample(n=size, random_state=i)\n",
    "                train_data_mix = pd.concat([train_data_simple.sample(n=size*2//10, random_state=i), train_data_grid.sample(n=size*(8)//10, random_state=i)])\n",
    "                \n",
    "                X_train_simple = train_data_simple[['spark.driver.memory','spark.driver.cores','spark.executor.instances','spark.reducer.maxSizeInFlight','spark.shuffle.file.buffer','spark.shuffle.sort.bypassMergeThreshold','spark.memory.fraction','spark.memory.storageFraction','spark.shuffle.memoryFraction', 'spark.storage.memoryFraction','spark.storage.unrollFraction', 'spark.default.parallelism','spark.broadcast.blockSize', 'spark.storage.memoryMapThreshold','spark.io.compression.codec', 'spark.io.compression.lz4.blockSize','spark.io.compression.snappy.blockSize', 'spark.kryoserializer.buffer.max','spark.kryoserializer.buffer','spark.serializer']]\n",
    "                y_train_simple = train_data_simple[['Duration(s)']]\n",
    "                \n",
    "                X_train_grid = train_data_grid[['spark.driver.memory','spark.driver.cores','spark.executor.instances','spark.reducer.maxSizeInFlight','spark.shuffle.file.buffer','spark.shuffle.sort.bypassMergeThreshold','spark.memory.fraction','spark.memory.storageFraction','spark.shuffle.memoryFraction', 'spark.storage.memoryFraction','spark.storage.unrollFraction', 'spark.default.parallelism','spark.broadcast.blockSize', 'spark.storage.memoryMapThreshold','spark.io.compression.codec', 'spark.io.compression.lz4.blockSize','spark.io.compression.snappy.blockSize', 'spark.kryoserializer.buffer.max','spark.kryoserializer.buffer','spark.serializer']]\n",
    "                y_train_grid = train_data_grid[['Duration(s)']]\n",
    "                \n",
    "                X_train_mix = train_data_mix[['spark.driver.memory','spark.driver.cores','spark.executor.instances','spark.reducer.maxSizeInFlight','spark.shuffle.file.buffer','spark.shuffle.sort.bypassMergeThreshold','spark.memory.fraction','spark.memory.storageFraction','spark.shuffle.memoryFraction', 'spark.storage.memoryFraction','spark.storage.unrollFraction', 'spark.default.parallelism','spark.broadcast.blockSize', 'spark.storage.memoryMapThreshold','spark.io.compression.codec', 'spark.io.compression.lz4.blockSize','spark.io.compression.snappy.blockSize', 'spark.kryoserializer.buffer.max','spark.kryoserializer.buffer','spark.serializer']]\n",
    "                y_train_mix = train_data_mix[['Duration(s)']]\n",
    "                \n",
    "                # 從剩餘的數據中選擇作為測試集\n",
    "                test_data_simple = hibench_report_simple[~hibench_report_simple.index.isin(train_data_simple.index)].sample(n=50, random_state=i)\n",
    "                test_data_grid = hibench_report_grid[~hibench_report_grid.index.isin(train_data_grid.index)].sample(n=50, random_state=i)\n",
    "                test_data = pd.concat([test_data_simple, test_data_grid])\n",
    "\n",
    "                X_test = test_data[['spark.driver.memory','spark.driver.cores','spark.executor.instances','spark.reducer.maxSizeInFlight','spark.shuffle.file.buffer','spark.shuffle.sort.bypassMergeThreshold','spark.memory.fraction','spark.memory.storageFraction','spark.shuffle.memoryFraction', 'spark.storage.memoryFraction','spark.storage.unrollFraction', 'spark.default.parallelism','spark.broadcast.blockSize', 'spark.storage.memoryMapThreshold','spark.io.compression.codec', 'spark.io.compression.lz4.blockSize','spark.io.compression.snappy.blockSize', 'spark.kryoserializer.buffer.max','spark.kryoserializer.buffer','spark.serializer']]\n",
    "                y_test = test_data[['Duration(s)']]\n",
    "\n",
    "                forest_simple = RandomForestRegressor()\n",
    "                forest_grid = RandomForestRegressor()\n",
    "                forest_mix = RandomForestRegressor()\n",
    "\n",
    "                # Fitting\n",
    "                forest_simple = forest_simple.fit(X_train_simple, y_train_simple)\n",
    "                forest_grid = forest_grid.fit(X_train_grid, y_train_grid)\n",
    "                forest_mix = forest_mix.fit(X_train_mix, y_train_mix)\n",
    "\n",
    "                mean_mse += mean_squared_error(y_test, forest_simple.predict(X_test))\n",
    "                mean_error += error_index(y_test, forest_simple.predict(X_test),\"simple\")\n",
    "\n",
    "                mean_mse_grid += mean_squared_error(y_test, forest_grid.predict(X_test))\n",
    "                mean_error_grid += error_index(y_test, forest_grid.predict(X_test),\"grid\")\n",
    "\n",
    "                mean_mse_mix += mean_squared_error(y_test, forest_mix.predict(X_test))\n",
    "                mean_error_mix += error_index(y_test, forest_mix.predict(X_test),\"mix\")\n",
    "\n",
    "            #print(\"Mean_MSE_simple:{}\".format(mean_mse/20))\n",
    "            #print(\"Mean_Error_simple:{}\".format(mean_error/20))\n",
    "            #print(\"\")\n",
    "            #print(\"Mean_MSE_grid:{}\".format(mean_mse_grid/20))\n",
    "            #print(\"Mean_Error_grid:{}\".format(mean_error_grid/20))\n",
    "            #print(\"\")\n",
    "            #print(\"Mean_MSE_mix:{}\".format(mean_mse_mix/20))\n",
    "            #print(\"Mean_Error_mix:{}\".format(mean_error_mix/20))\n",
    "            #print(\"----------------------------------------------\")\n",
    "            result = result.append({\"size\": size, \"simple_\"+type[10:]+\"_error\": mean_error/20,\"grid_\"+type[10:]+\"_error\": mean_error_grid/20,\"mix_\"+type[10:]+\"_error\": mean_error_mix/20},ignore_index=True)\n",
    "    result.to_csv(\"result_\"+str(ratio)+str(10-ratio)+\".csv\")\n"
   ]
  },
  {
   "cell_type": "code",
   "execution_count": null,
   "metadata": {},
   "outputs": [
    {
     "name": "stdout",
     "output_type": "stream",
     "text": [
      "(700, 28)\n",
      "(700, 28)\n",
      "(700, 28)\n"
     ]
    }
   ],
   "source": [
    "print(train_data_grid.shape)\n",
    "print(train_data_simple.shape)\n",
    "print(train_data_mix.shape)"
   ]
  }
 ],
 "metadata": {
  "interpreter": {
   "hash": "e7370f93d1d0cde622a1f8e1c04877d8463912d04d973331ad4851f04de6915a"
  },
  "kernelspec": {
   "display_name": "Python 3.8.10 64-bit",
   "language": "python",
   "name": "python3"
  },
  "language_info": {
   "codemirror_mode": {
    "name": "ipython",
    "version": 3
   },
   "file_extension": ".py",
   "mimetype": "text/x-python",
   "name": "python",
   "nbconvert_exporter": "python",
   "pygments_lexer": "ipython3",
   "version": "3.8.10"
  },
  "orig_nbformat": 4
 },
 "nbformat": 4,
 "nbformat_minor": 2
}
